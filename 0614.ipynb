{
 "cells": [
  {
   "cell_type": "code",
   "execution_count": 20,
   "metadata": {},
   "outputs": [],
   "source": [
    "from sklearn.datasets import load_iris\n",
    "from sklearn.tree import DecisionTreeClassifier\n",
    "from sklearn.metrics import accuracy_score\n",
    "from sklearn.model_selection import train_test_split, KFold, StratifiedKFold\n",
    "import numpy as np\n",
    "import pandas as pd"
   ]
  },
  {
   "attachments": {},
   "cell_type": "markdown",
   "metadata": {},
   "source": [
    "## Model Selection 모듈 소개"
   ]
  },
  {
   "cell_type": "code",
   "execution_count": 5,
   "metadata": {},
   "outputs": [],
   "source": [
    "iris = load_iris()\n",
    "train_data = iris.data\n",
    "train_label = iris.target"
   ]
  },
  {
   "cell_type": "code",
   "execution_count": 6,
   "metadata": {},
   "outputs": [
    {
     "name": "stdout",
     "output_type": "stream",
     "text": [
      "accuracy: 1.0\n"
     ]
    }
   ],
   "source": [
    "dt_clf = DecisionTreeClassifier()\n",
    "dt_clf.fit(train_data, train_label)\n",
    "pred = dt_clf.predict(train_data)\n",
    "print(\"accuracy:\", accuracy_score(pred, train_label))"
   ]
  },
  {
   "cell_type": "code",
   "execution_count": 10,
   "metadata": {},
   "outputs": [
    {
     "name": "stdout",
     "output_type": "stream",
     "text": [
      "accuracy: 0.9555555555555556\n"
     ]
    }
   ],
   "source": [
    "x_train, x_test, y_train, y_test = train_test_split(iris.data, iris.target, test_size = 0.3)\n",
    "dt_clf = DecisionTreeClassifier()\n",
    "dt_clf.fit(x_train, y_train)\n",
    "pred = dt_clf.predict(x_test)\n",
    "print(\"accuracy:\", accuracy_score(pred, y_test))"
   ]
  },
  {
   "cell_type": "code",
   "execution_count": 12,
   "metadata": {},
   "outputs": [
    {
     "name": "stdout",
     "output_type": "stream",
     "text": [
      "세트 크기:  150\n"
     ]
    }
   ],
   "source": [
    "features = iris.data\n",
    "label = iris.target\n",
    "print(\"세트 크기: \", features.shape[0])"
   ]
  },
  {
   "cell_type": "code",
   "execution_count": 13,
   "metadata": {},
   "outputs": [],
   "source": [
    "dt_clf = DecisionTreeClassifier()\n",
    "kfold = KFold(n_splits=5)\n",
    "cv_accuracy = []\n",
    "n_iter = 0"
   ]
  },
  {
   "cell_type": "code",
   "execution_count": 14,
   "metadata": {},
   "outputs": [
    {
     "name": "stdout",
     "output_type": "stream",
     "text": [
      "1 회 교차 검증 accuracy:  1.0\n",
      "2 회 교차 검증 accuracy:  0.967\n",
      "3 회 교차 검증 accuracy:  0.867\n",
      "4 회 교차 검증 accuracy:  0.933\n",
      "5 회 교차 검증 accuracy:  0.833\n",
      "평균 accuracy:  0.9200000000000002\n"
     ]
    }
   ],
   "source": [
    "for train_ind, test_ind in kfold.split(features):\n",
    "    x_train, x_test = features[train_ind], features[test_ind]\n",
    "    y_train, y_test = label[train_ind], label[test_ind]\n",
    "    \n",
    "    dt_clf.fit(x_train, y_train) # learning\n",
    "    pred = dt_clf.predict(x_test) # 예측\n",
    "    n_iter += 1\n",
    "    \n",
    "    acc = np.round(accuracy_score(pred, y_test),3)\n",
    "    print(n_iter, \"회 교차 검증 accuracy: \", acc)\n",
    "    cv_accuracy.append(acc)\n",
    "print(\"평균 accuracy: \", np.mean(cv_accuracy))"
   ]
  },
  {
   "cell_type": "code",
   "execution_count": 16,
   "metadata": {},
   "outputs": [
    {
     "data": {
      "text/plain": [
       "label\n",
       "0    50\n",
       "1    50\n",
       "2    50\n",
       "Name: count, dtype: int64"
      ]
     },
     "execution_count": 16,
     "metadata": {},
     "output_type": "execute_result"
    }
   ],
   "source": [
    "iris_df = pd.DataFrame(iris.data, columns=iris.feature_names)\n",
    "iris_df['label'] = iris.target\n",
    "iris_df['label'].value_counts()"
   ]
  },
  {
   "cell_type": "code",
   "execution_count": 18,
   "metadata": {},
   "outputs": [
    {
     "name": "stdout",
     "output_type": "stream",
     "text": [
      "## 1 회 교차 검증\n",
      "학습 데이터 분포\n",
      " label\n",
      "1    50\n",
      "2    50\n",
      "Name: count, dtype: int64\n",
      "평가 데이터 분포\n",
      " label\n",
      "0    50\n",
      "Name: count, dtype: int64\n",
      "## 2 회 교차 검증\n",
      "학습 데이터 분포\n",
      " label\n",
      "0    50\n",
      "2    50\n",
      "Name: count, dtype: int64\n",
      "평가 데이터 분포\n",
      " label\n",
      "1    50\n",
      "Name: count, dtype: int64\n",
      "## 3 회 교차 검증\n",
      "학습 데이터 분포\n",
      " label\n",
      "0    50\n",
      "1    50\n",
      "Name: count, dtype: int64\n",
      "평가 데이터 분포\n",
      " label\n",
      "2    50\n",
      "Name: count, dtype: int64\n"
     ]
    }
   ],
   "source": [
    "kfold = KFold(n_splits=3)\n",
    "n_iter = 0\n",
    "for train_ind, test_ind in kfold.split(iris_df):\n",
    "    n_iter += 1\n",
    "    label_train = iris_df['label'].iloc[train_ind]\n",
    "    label_test = iris_df['label'].iloc[test_ind]\n",
    "    print(\"##\", n_iter, \"회 교차 검증\")\n",
    "    print(\"학습 데이터 분포\\n\", label_train.value_counts())\n",
    "    print(\"평가 데이터 분포\\n\", label_test.value_counts())"
   ]
  },
  {
   "cell_type": "code",
   "execution_count": 19,
   "metadata": {},
   "outputs": [
    {
     "name": "stdout",
     "output_type": "stream",
     "text": [
      "1 회 교차 검증 accuracy:  0.0\n",
      "2 회 교차 검증 accuracy:  0.0\n",
      "3 회 교차 검증 accuracy:  0.0\n",
      "평균 accuracy:  0.0\n"
     ]
    }
   ],
   "source": [
    "dt_clf = DecisionTreeClassifier()\n",
    "kfold = KFold(n_splits=3)\n",
    "cv_accuracy = []\n",
    "n_iter = 0\n",
    "\n",
    "for train_ind, test_ind in kfold.split(features):\n",
    "    x_train, x_test = features[train_ind], features[test_ind]\n",
    "    y_train, y_test = label[train_ind], label[test_ind]\n",
    "    \n",
    "    dt_clf.fit(x_train, y_train)\n",
    "    pred = dt_clf.predict(x_test)\n",
    "    n_iter += 1\n",
    "    \n",
    "    acc = np.round(accuracy_score(pred, y_test),3)\n",
    "    print(n_iter, \"회 교차 검증 accuracy: \", acc)\n",
    "    cv_accuracy.append(acc)\n",
    "\n",
    "print(\"평균 accuracy: \", np.mean(cv_accuracy))"
   ]
  },
  {
   "cell_type": "code",
   "execution_count": 21,
   "metadata": {},
   "outputs": [
    {
     "name": "stdout",
     "output_type": "stream",
     "text": [
      "1 회 교차 검증 accuracy:  0.8\n",
      "2 회 교차 검증 accuracy:  0.54\n",
      "3 회 교차 검증 accuracy:  0.22\n",
      "평균 accuracy:  0.52\n"
     ]
    }
   ],
   "source": [
    "dt_clf = DecisionTreeClassifier()\n",
    "skf = StratifiedKFold(n_splits=3)\n",
    "cv_accuracy = []\n",
    "n_iter = 0\n",
    "for train_ind, test_ind in skf.split(features, label):\n",
    "    x_trian, x_test = features[train_ind], features[test_ind]\n",
    "    y_train, y_test = label[train_ind], label[test_ind]\n",
    "    \n",
    "    dt_clf.fit(x_train, y_train)\n",
    "    pred = dt_clf.predict(x_test)\n",
    "    n_iter += 1\n",
    "    \n",
    "    acc = np.round(accuracy_score(pred, y_test),3)\n",
    "    print(n_iter, \"회 교차 검증 accuracy: \", acc)\n",
    "    cv_accuracy.append(acc)\n",
    "    \n",
    "print(\"평균 accuracy: \", np.mean(cv_accuracy))"
   ]
  },
  {
   "cell_type": "code",
   "execution_count": null,
   "metadata": {},
   "outputs": [],
   "source": []
  }
 ],
 "metadata": {
  "kernelspec": {
   "display_name": "test",
   "language": "python",
   "name": "python3"
  },
  "language_info": {
   "codemirror_mode": {
    "name": "ipython",
    "version": 3
   },
   "file_extension": ".py",
   "mimetype": "text/x-python",
   "name": "python",
   "nbconvert_exporter": "python",
   "pygments_lexer": "ipython3",
   "version": "3.11.3"
  },
  "orig_nbformat": 4
 },
 "nbformat": 4,
 "nbformat_minor": 2
}
