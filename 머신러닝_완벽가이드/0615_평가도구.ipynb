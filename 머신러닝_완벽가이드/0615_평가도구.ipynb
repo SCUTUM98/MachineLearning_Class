{
 "cells": [
  {
   "cell_type": "code",
   "execution_count": 1,
   "metadata": {},
   "outputs": [],
   "source": [
    "from sklearn.model_selection import train_test_split\n",
    "from sklearn.metrics import accuracy_score, confusion_matrix, precision_recall_curve, f1_score, roc_curve, roc_auc_score\n",
    "from sklearn.datasets import load_digits\n",
    "from sklearn.linear_model import LogisticRegression\n",
    "from sklearn.preprocessing import Binarizer\n",
    "import pandas as pd\n",
    "import numpy as np\n",
    "import matplotlib.pyplot as plt\n",
    "import matplotlib.ticker as ticker\n",
    "import titanic"
   ]
  },
  {
   "cell_type": "code",
   "execution_count": 2,
   "metadata": {},
   "outputs": [],
   "source": [
    "titanic_df = pd.read_csv('train_titanic.csv')\n",
    "y_titanic_df = titanic_df['Survived']\n",
    "x_titanic_df = titanic_df.drop('Survived', axis=1)\n",
    "x_titanic_df = titanic.transform_features(x_titanic_df)\n",
    "x_train, x_test, y_train, y_test = train_test_split(x_titanic_df, y_titanic_df)"
   ]
  },
  {
   "attachments": {},
   "cell_type": "markdown",
   "metadata": {},
   "source": [
    "### 정확도"
   ]
  },
  {
   "cell_type": "code",
   "execution_count": 3,
   "metadata": {},
   "outputs": [
    {
     "name": "stdout",
     "output_type": "stream",
     "text": [
      "0.7623318385650224\n"
     ]
    }
   ],
   "source": [
    "myclf = titanic.MyDummyClassifier()\n",
    "myclf.fit(x_train, y_train)\n",
    "pred = myclf.predict(x_test)\n",
    "\n",
    "print(accuracy_score(y_test, pred))"
   ]
  },
  {
   "cell_type": "code",
   "execution_count": 4,
   "metadata": {},
   "outputs": [],
   "source": [
    "digits = load_digits()\n",
    "y = (digits.target==7).astype(int)\n",
    "x_train, x_test, y_train, y_test = train_test_split(digits.data, y)"
   ]
  },
  {
   "cell_type": "code",
   "execution_count": 5,
   "metadata": {},
   "outputs": [
    {
     "name": "stdout",
     "output_type": "stream",
     "text": [
      "0.9155555555555556\n"
     ]
    }
   ],
   "source": [
    "fakeclf = titanic.MyFakeClassifier()\n",
    "fakeclf.fit(x_train, y_train)\n",
    "pred = fakeclf.predict(x_test)\n",
    "\n",
    "print(accuracy_score(y_test, pred))"
   ]
  },
  {
   "attachments": {},
   "cell_type": "markdown",
   "metadata": {},
   "source": [
    "### 오차행렬"
   ]
  },
  {
   "cell_type": "code",
   "execution_count": 6,
   "metadata": {},
   "outputs": [
    {
     "data": {
      "text/plain": [
       "array([[412,   0],\n",
       "       [ 38,   0]])"
      ]
     },
     "execution_count": 6,
     "metadata": {},
     "output_type": "execute_result"
    }
   ],
   "source": [
    "confusion_matrix(y_test, pred)"
   ]
  },
  {
   "attachments": {},
   "cell_type": "markdown",
   "metadata": {},
   "source": [
    "### 정밀도와 재현율"
   ]
  },
  {
   "cell_type": "code",
   "execution_count": 7,
   "metadata": {},
   "outputs": [
    {
     "name": "stdout",
     "output_type": "stream",
     "text": [
      "acc:accuracy:.3f prec:0.753 recall:0.679\n"
     ]
    }
   ],
   "source": [
    "titanic_df = pd.read_csv('train_titanic.csv')\n",
    "y_titanic_df = titanic_df['Survived']\n",
    "x_titanic_df = titanic_df.drop('Survived', axis=1)\n",
    "x_titanic_df = titanic.transform_features(x_titanic_df)\n",
    "x_train, x_test, y_train, y_test = train_test_split(x_titanic_df, y_titanic_df)\n",
    "\n",
    "lr = LogisticRegression(solver='liblinear')\n",
    "lr.fit(x_train, y_train)\n",
    "pred = lr.predict(x_test)\n",
    "accuracy, precision, recall = titanic.get_clf_eval(y_test, pred)\n",
    "\n",
    "print(f'acc:accuracy:.3f prec:{precision:.3f} recall:{recall:.3f}')"
   ]
  },
  {
   "cell_type": "code",
   "execution_count": 8,
   "metadata": {},
   "outputs": [],
   "source": [
    "pred_proba = lr.predict_proba(x_test)\n",
    "pred = lr.predict(x_test)"
   ]
  },
  {
   "cell_type": "code",
   "execution_count": 9,
   "metadata": {},
   "outputs": [
    {
     "data": {
      "text/plain": [
       "((223, 2), (223,))"
      ]
     },
     "execution_count": 9,
     "metadata": {},
     "output_type": "execute_result"
    }
   ],
   "source": [
    "pred_proba.shape, pred.shape"
   ]
  },
  {
   "cell_type": "code",
   "execution_count": 10,
   "metadata": {},
   "outputs": [
    {
     "data": {
      "text/plain": [
       "(array([0.87387835, 0.12612165]), 0)"
      ]
     },
     "execution_count": 10,
     "metadata": {},
     "output_type": "execute_result"
    }
   ],
   "source": [
    "pred_proba[0], pred[0]"
   ]
  },
  {
   "cell_type": "code",
   "execution_count": 11,
   "metadata": {},
   "outputs": [
    {
     "data": {
      "text/plain": [
       "array([[0, 0, 0],\n",
       "       [1, 0, 0],\n",
       "       [0, 0, 1]])"
      ]
     },
     "execution_count": 11,
     "metadata": {},
     "output_type": "execute_result"
    }
   ],
   "source": [
    "x = [[1,2,1], [4,0,2], [1,2,3]]\n",
    "binar = Binarizer(threshold=2)\n",
    "binar.fit_transform(x)"
   ]
  },
  {
   "cell_type": "code",
   "execution_count": 12,
   "metadata": {},
   "outputs": [
    {
     "data": {
      "text/plain": [
       "array([[0.12612165],\n",
       "       [0.64672368],\n",
       "       [0.12587354]])"
      ]
     },
     "execution_count": 12,
     "metadata": {},
     "output_type": "execute_result"
    }
   ],
   "source": [
    "pp1 = pred_proba[:,1].reshape(-1,1)\n",
    "pp1[:3]"
   ]
  },
  {
   "cell_type": "code",
   "execution_count": 13,
   "metadata": {},
   "outputs": [
    {
     "data": {
      "text/plain": [
       "(0.8026905829596412, 0.7534246575342466, 0.6790123456790124)"
      ]
     },
     "execution_count": 13,
     "metadata": {},
     "output_type": "execute_result"
    }
   ],
   "source": [
    "binar = Binarizer(threshold=0.5)\n",
    "pv = binar.fit_transform(pp1)\n",
    "titanic.get_clf_eval(y_test, pv)"
   ]
  },
  {
   "cell_type": "code",
   "execution_count": 14,
   "metadata": {},
   "outputs": [
    {
     "data": {
      "text/plain": [
       "(0.8026905829596412, 0.7534246575342466, 0.6790123456790124)"
      ]
     },
     "execution_count": 14,
     "metadata": {},
     "output_type": "execute_result"
    }
   ],
   "source": [
    "titanic.get_clf_eval(y_test, pred)"
   ]
  },
  {
   "cell_type": "code",
   "execution_count": 15,
   "metadata": {},
   "outputs": [
    {
     "data": {
      "text/plain": [
       "(0.7847533632286996, 0.6853932584269663, 0.7530864197530864)"
      ]
     },
     "execution_count": 15,
     "metadata": {},
     "output_type": "execute_result"
    }
   ],
   "source": [
    "binar = Binarizer(threshold=0.4)\n",
    "pv = binar.fit_transform(pp1)\n",
    "titanic.get_clf_eval(y_test, pv)"
   ]
  },
  {
   "cell_type": "code",
   "execution_count": 16,
   "metadata": {},
   "outputs": [
    {
     "name": "stdout",
     "output_type": "stream",
     "text": [
      "acc:0.785 prec:0.685 recall:0.753\n",
      "acc:0.789 prec:0.713 recall:0.704\n",
      "acc:0.803 prec:0.753 recall:0.679\n",
      "acc:0.807 prec:0.771 recall:0.667\n",
      "acc:0.798 prec:0.790 recall:0.605\n"
     ]
    }
   ],
   "source": [
    "tvs = np.arange(0.4, 0.61, 0.05)\n",
    "titanic.get_eval_by_thresholds(y_test, pp1, tvs)"
   ]
  },
  {
   "cell_type": "code",
   "execution_count": 17,
   "metadata": {},
   "outputs": [
    {
     "data": {
      "text/plain": [
       "(184,)"
      ]
     },
     "execution_count": 17,
     "metadata": {},
     "output_type": "execute_result"
    }
   ],
   "source": [
    "prec, rec, thres = precision_recall_curve(y_test, pp1)\n",
    "thres.shape"
   ]
  },
  {
   "cell_type": "code",
   "execution_count": 18,
   "metadata": {},
   "outputs": [
    {
     "data": {
      "text/plain": [
       "array([  0,  15,  30,  45,  60,  75,  90, 105, 120, 135, 150, 165, 180])"
      ]
     },
     "execution_count": 18,
     "metadata": {},
     "output_type": "execute_result"
    }
   ],
   "source": [
    "thr_index = np.arange(0, thres.shape[0], 15)\n",
    "thr_index"
   ]
  },
  {
   "cell_type": "code",
   "execution_count": 19,
   "metadata": {},
   "outputs": [
    {
     "name": "stdout",
     "output_type": "stream",
     "text": [
      "[0.02 0.1  0.13 0.13 0.17 0.28 0.37 0.42 0.56 0.63 0.74 0.78 0.94]\n"
     ]
    }
   ],
   "source": [
    "print(np.round(thres[thr_index], 2))"
   ]
  },
  {
   "cell_type": "code",
   "execution_count": 20,
   "metadata": {},
   "outputs": [
    {
     "name": "stdout",
     "output_type": "stream",
     "text": [
      "정밀도: [0.36 0.38 0.4  0.44 0.55 0.62 0.65 0.71 0.78 0.85 0.89 0.95 1.  ]\n",
      "재현율: [1.   0.96 0.94 0.94 0.89 0.86 0.79 0.73 0.65 0.54 0.4  0.22 0.05]\n"
     ]
    }
   ],
   "source": [
    "print(f'정밀도: {np.round(prec[thr_index], 2)}')\n",
    "print(f'재현율: {np.round(rec[thr_index], 2)}')"
   ]
  },
  {
   "attachments": {},
   "cell_type": "markdown",
   "metadata": {},
   "source": [
    "#### 그래프"
   ]
  },
  {
   "cell_type": "code",
   "execution_count": 21,
   "metadata": {},
   "outputs": [
    {
     "data": {
      "image/png": "[encoded data removed]",
      "text/plain": [
       "<Figure size 640x480 with 1 Axes>"
      ]
     },
     "metadata": {},
     "output_type": "display_data"
    }
   ],
   "source": [
    "last = thres.shape[0]\n",
    "plt.plot(thres, prec[0:last], 'r-', label='precission')\n",
    "plt.plot(thres, rec[0:last], label='recall')\n",
    "plt.grid()\n",
    "plt.legend()\n",
    "plt.show()"
   ]
  },
  {
   "attachments": {},
   "cell_type": "markdown",
   "metadata": {},
   "source": [
    "### F1 스코어"
   ]
  },
  {
   "cell_type": "code",
   "execution_count": 22,
   "metadata": {},
   "outputs": [
    {
     "name": "stdout",
     "output_type": "stream",
     "text": [
      "F1 score: 0.7143\n"
     ]
    }
   ],
   "source": [
    "f1 = f1_score(y_test, pred)\n",
    "print(f'F1 score: {f1:.4f}')"
   ]
  },
  {
   "cell_type": "code",
   "execution_count": 23,
   "metadata": {},
   "outputs": [
    {
     "name": "stdout",
     "output_type": "stream",
     "text": [
      "오차 행렬\n",
      " [[114  28]\n",
      " [ 20  61]]\n",
      "정확도:0.7848 정밀도:0.6854 재현율:0.7531 F1:0.7176\n",
      "오차 행렬\n",
      " [[119  23]\n",
      " [ 24  57]]\n",
      "정확도:0.7892 정밀도:0.7125 재현율:0.7037 F1:0.7081\n",
      "오차 행렬\n",
      " [[124  18]\n",
      " [ 26  55]]\n",
      "정확도:0.8027 정밀도:0.7534 재현율:0.6790 F1:0.7143\n",
      "오차 행렬\n",
      " [[126  16]\n",
      " [ 27  54]]\n",
      "정확도:0.8072 정밀도:0.7714 재현율:0.6667 F1:0.7152\n",
      "오차 행렬\n",
      " [[126  16]\n",
      " [ 27  54]]\n",
      "정확도:0.8072 정밀도:0.7714 재현율:0.6667 F1:0.7152\n",
      "오차 행렬\n",
      " [[129  13]\n",
      " [ 32  49]]\n",
      "정확도:0.7982 정밀도:0.7903 재현율:0.6049 F1:0.6853\n"
     ]
    }
   ],
   "source": [
    "thresholds = [0.4, 0.45, 0.5, 0.55, 0.55, 0.6]\n",
    "pred_proba = lr.predict_proba(x_test)\n",
    "pp1 = pred_proba[:,1].reshape(-1,1)\n",
    "titanic.get_eval_by_thresholds_f1(y_test, pp1, thresholds)"
   ]
  },
  {
   "attachments": {},
   "cell_type": "markdown",
   "metadata": {},
   "source": [
    "### ROC 곡선과 AUC"
   ]
  },
  {
   "cell_type": "code",
   "execution_count": 24,
   "metadata": {},
   "outputs": [
    {
     "name": "stdout",
     "output_type": "stream",
     "text": [
      "인덱스: [ 1  6 11 16 21 26 31 36 41 46 51 56 61 66 71 76]\n",
      "임계값: [0.97 0.74 0.65 0.62 0.56 0.42 0.39 0.35 0.32 0.23 0.19 0.15 0.13 0.13\n",
      " 0.12 0.1 ]\n",
      "FRP: [0.   0.01 0.04 0.08 0.11 0.17 0.2  0.27 0.29 0.35 0.42 0.46 0.6  0.77\n",
      " 0.87 0.94]\n",
      "TRP: [0.01 0.4  0.51 0.57 0.67 0.73 0.78 0.8  0.85 0.86 0.88 0.9  0.91 0.94\n",
      " 0.94 0.98]\n"
     ]
    }
   ],
   "source": [
    "pred_proba = lr.predict_proba(x_test)\n",
    "pp1 = pred_proba[:,1].reshape(-1,1)\n",
    "fprs, tprs, thresholds = roc_curve(y_test, pp1)\n",
    "thr_index = np.arange(1, thresholds.shape[0], 5)\n",
    "print(f'인덱스: {thr_index}')\n",
    "print(f'임계값: {np.round(thresholds[thr_index], 2)}')\n",
    "print(f'FRP: {np.round(fprs[thr_index], 2)}')\n",
    "print(f'TRP: {np.round(tprs[thr_index], 2)}')"
   ]
  },
  {
   "attachments": {},
   "cell_type": "markdown",
   "metadata": {},
   "source": [
    "#### 그래프 그리기"
   ]
  },
  {
   "cell_type": "code",
   "execution_count": 25,
   "metadata": {},
   "outputs": [
    {
     "data": {
      "image/png": "[encoded data removed]",
      "text/plain": [
       "<Figure size 640x480 with 1 Axes>"
      ]
     },
     "metadata": {},
     "output_type": "display_data"
    }
   ],
   "source": [
    "titanic.roc_curve_plot(y_test, pp1)"
   ]
  },
  {
   "cell_type": "code",
   "execution_count": 26,
   "metadata": {},
   "outputs": [
    {
     "data": {
      "text/plain": [
       "0.8450704225352111"
      ]
     },
     "execution_count": 26,
     "metadata": {},
     "output_type": "execute_result"
    }
   ],
   "source": [
    "roc_auc_score(y_test, pp1)"
   ]
  }
 ],
 "metadata": {
  "kernelspec": {
   "display_name": "test",
   "language": "python",
   "name": "python3"
  },
  "language_info": {
   "codemirror_mode": {
    "name": "ipython",
    "version": 3
   },
   "file_extension": ".py",
   "mimetype": "text/x-python",
   "name": "python",
   "nbconvert_exporter": "python",
   "pygments_lexer": "ipython3",
   "version": "3.11.3"
  },
  "orig_nbformat": 4
 },
 "nbformat": 4,
 "nbformat_minor": 2
}
